{
 "cells": [
  {
   "cell_type": "code",
   "execution_count": 1,
   "id": "151b1c34",
   "metadata": {},
   "outputs": [],
   "source": [
    "import matplotlib.pyplot as plt\n",
    "import nest_asyncio\n",
    "import numpy as np\n",
    "import time\n",
    "import asyncio\n",
    "\n",
    "from intrepid_environment.simulator import Simulator\n",
    "from quadcopter_control.controller import QuadcopterController\n",
    "from scipy.spatial.transform import Rotation as R\n",
    "from tqdm import tqdm\n",
    "\n",
    "nest_asyncio.apply()"
   ]
  },
  {
   "cell_type": "code",
   "execution_count": 2,
   "id": "a5d25522",
   "metadata": {},
   "outputs": [
    {
     "data": {
      "text/plain": [
       "0"
      ]
     },
     "execution_count": 2,
     "metadata": {},
     "output_type": "execute_result"
    }
   ],
   "source": [
    "sim = Simulator()\n",
    "await sim.connect()"
   ]
  },
  {
   "cell_type": "code",
   "execution_count": 3,
   "id": "3d901a42",
   "metadata": {},
   "outputs": [],
   "source": [
    "# Sim Constants\n",
    "\n",
    "DT_S = 1. / 60\n",
    "\n",
    "DRONE_MASS = 0.027\n",
    "Ixx = 1.4e-5\n",
    "Iyy = 1.4e-5\n",
    "Izz = 2.17e-5\n",
    "\n",
    "MIN_THRUST = DRONE_MASS * 9.81 / 4 * 0.8\n",
    "MAX_THRUST = DRONE_MASS * 9.81 / 4 * 1.5\n",
    "\n",
    "NEWTON_TO_RPM = 1"
   ]
  },
  {
   "cell_type": "code",
   "execution_count": 4,
   "id": "19ad90c0",
   "metadata": {},
   "outputs": [],
   "source": [
    "async def reset():\n",
    "    await sim.rpc(\"session.restart\")\n",
    "    entity = await sim.rpc(\"map.spawn_urdf\", {\n",
    "        \"robot_id\": 0,\n",
    "        \"urdf_path\": \"crazyflie_urdf/cf2x.urdf\",\n",
    "        \"mesh_dir\": \"assets/crazyflie_urdf\",\n",
    "        \"create_colliders_from_visual_shapes\": False,\n",
    "        \"create_colliders_from_collision_shapes\": True,\n",
    "        \"robot_type\": \"drone\",\n",
    "        \"position\": {\n",
    "            \"x\": 0,\n",
    "            \"y\": 0,\n",
    "            \"z\": 0,\n",
    "        },\n",
    "    })\n",
    "    time.sleep(1.0)\n",
    "    await sim.rpc(\"session.run\")\n",
    "    return entity"
   ]
  },
  {
   "cell_type": "code",
   "execution_count": 5,
   "id": "ad3c0546",
   "metadata": {},
   "outputs": [],
   "source": [
    "entity = await reset()"
   ]
  },
  {
   "cell_type": "code",
   "execution_count": null,
   "id": "61328f80",
   "metadata": {},
   "outputs": [],
   "source": [
    "async def sim_step(motors):\n",
    "\n",
    "    motors = np.array(motors) * NEWTON_TO_RPM\n",
    "    motors = np.array([motors[0], motors[2], motors[3], motors[1]])\n",
    "\n",
    "    (sim_time, _, state) = await asyncio.gather(\n",
    "        sim.step(),\n",
    "        sim.rpc(f\"object_{entity}.thrust_control\", list(motors)),\n",
    "        sim.rpc(\"script.eval\", {\n",
    "                \"code\": \"\"\"{\n",
    "                    uav_state = sim.object.urdf_uav_state(ARGS),\n",
    "                }\"\"\",\n",
    "                \"args\": entity,\n",
    "                }),\n",
    "    )\n",
    "\n",
    "    position = np.array([state['uav_state']['position_x'],\n",
    "                        state['uav_state']['position_y'],\n",
    "                        state['uav_state']['position_z']], dtype=np.float64)\n",
    "\n",
    "    velocity = np.array([state['uav_state']['velocity_x'],\n",
    "                        state['uav_state']['velocity_y'],\n",
    "                        state['uav_state']['velocity_z']], dtype=np.float64)\n",
    "\n",
    "    attitude = R.from_euler('xyz', [\n",
    "        state['uav_state']['roll'],\n",
    "        state['uav_state']['pitch'],\n",
    "        state['uav_state']['yaw'],\n",
    "    ])\n",
    "\n",
    "    omega = np.array([\n",
    "        -state['uav_state']['roll_rate'],\n",
    "        -state['uav_state']['pitch_rate'],\n",
    "        state['uav_state']['yaw_rate'],\n",
    "    ])\n",
    "\n",
    "    return {\n",
    "        'time': sim_time,\n",
    "        'position': position,\n",
    "        'velocity': velocity,\n",
    "        'attitude': attitude,\n",
    "        'omega': omega\n",
    "    }"
   ]
  },
  {
   "cell_type": "code",
   "execution_count": 7,
   "id": "23d4a190",
   "metadata": {},
   "outputs": [],
   "source": [
    "quadcopter_controller = QuadcopterController(\n",
    "    DT_S,\n",
    "    DRONE_MASS * 0.99,\n",
    "    Ixx, Iyy, Izz,\n",
    "    0.7, \n",
    "    12, 5, 5, \n",
    "    0.03,\n",
    "    MIN_THRUST, MAX_THRUST,\n",
    ")"
   ]
  },
  {
   "cell_type": "code",
   "execution_count": null,
   "id": "2bf6e759",
   "metadata": {},
   "outputs": [],
   "source": [
    "async def tune_controller(\n",
    "        target={\n",
    "            \"position\": np.array([0, 0, 5]),\n",
    "            \"velocity\": np.zeros(3),\n",
    "            \"acceleration\": np.zeros(3),\n",
    "            \"attitude\": R.from_quat([0, 0, 0, 1]),\n",
    "        },\n",
    "        kp_pqr=np.array([95.0, 95.0, 6.0]),\n",
    "        kp_bank=0.0,\n",
    "        kp_pos_z=0.0,\n",
    "        kp_vel_z=0.0,\n",
    "        ki_pos_z=0.0,\n",
    "        kp_pos_xy=0.0,\n",
    "        kp_yaw=0.0,\n",
    "        kp_vel_xy=0.0,\n",
    "        kappa=1.0,\n",
    "        n_episodes=500,\n",
    "):\n",
    "    global entity\n",
    "    entity = await reset()\n",
    "\n",
    "    quadcopter_controller.integrated_altitude_error = 0.0\n",
    "    quadcopter_controller.set_gains(\n",
    "        kp_pqr=kp_pqr,\n",
    "        kp_bank=kp_bank,\n",
    "        kp_pos_z=kp_pos_z,\n",
    "        kp_vel_z=kp_vel_z,\n",
    "        ki_pos_z=ki_pos_z,\n",
    "        kp_pos_xy=kp_pos_xy,\n",
    "        kp_yaw=kp_yaw,\n",
    "        kp_vel_xy=kp_vel_xy,\n",
    "        kappa=kappa\n",
    "    )\n",
    "\n",
    "    times = []\n",
    "    positions = []\n",
    "    velocities = []\n",
    "    attitudes = []\n",
    "    motors_ = []\n",
    "    omegas = []\n",
    "\n",
    "    state = await sim_step([0.0, 0.0, 0.0, 0.0])\n",
    "\n",
    "    t = 0\n",
    "    for i in tqdm(range(n_episodes)):\n",
    "\n",
    "        motors = quadcopter_controller.run_control(\n",
    "            target['position'],\n",
    "            target['velocity'],\n",
    "            target['acceleration'],\n",
    "            target['attitude'],\n",
    "            state['position'],\n",
    "            state['velocity'],\n",
    "            state['omega'],\n",
    "            state['attitude'],\n",
    "        )\n",
    "        motors_.append(motors)\n",
    "\n",
    "        # accelerations.append(state['acceleration'])\n",
    "        attitudes.append(state['attitude'].as_quat())\n",
    "        positions.append(state['position'])\n",
    "        omegas.append(state['omega'])\n",
    "        velocities.append(state['velocity'])\n",
    "        times.append(t)\n",
    "        state = await sim_step(motors)\n",
    "\n",
    "        t += DT_S\n",
    "\n",
    "    return (\n",
    "        np.array(times),\n",
    "        np.array(positions),\n",
    "        np.array(velocities),\n",
    "        np.array(attitudes),\n",
    "        np.array(omegas),\n",
    "        np.array(motors_)\n",
    "    )"
   ]
  },
  {
   "cell_type": "code",
   "execution_count": 9,
   "id": "eff7fb72",
   "metadata": {},
   "outputs": [],
   "source": [
    "target = {\n",
    "    \"position\": np.array([-5, 3, 10]),\n",
    "    \"velocity\": np.zeros(3),\n",
    "    \"acceleration\": np.zeros(3),\n",
    "    \"attitude\": R.from_quat([0, 0, 0, 1]),\n",
    "}"
   ]
  },
  {
   "cell_type": "code",
   "execution_count": null,
   "id": "06292c55",
   "metadata": {},
   "outputs": [
    {
     "name": "stdout",
     "output_type": "stream",
     "text": [
      "1 ~~~\n",
      "2 ~~~\n",
      "3 ~~~\n"
     ]
    },
    {
     "ename": "OperationTimeoutError",
     "evalue": "",
     "output_type": "error",
     "traceback": [
      "\u001b[0;31m---------------------------------------------------------------------------\u001b[0m",
      "\u001b[0;31mOperationTimeoutError\u001b[0m                     Traceback (most recent call last)",
      "Cell \u001b[0;32mIn[10], line 1\u001b[0m\n\u001b[0;32m----> 1\u001b[0m (times, positions, attitudes) \u001b[38;5;241m=\u001b[39m \u001b[38;5;28;01mawait\u001b[39;00m tune_controller(\n\u001b[1;32m      2\u001b[0m     kp_pqr\u001b[38;5;241m=\u001b[39mnp\u001b[38;5;241m.\u001b[39marray([\u001b[38;5;241m45\u001b[39m, \u001b[38;5;241m45\u001b[39m, \u001b[38;5;241m10\u001b[39m]),\n\u001b[1;32m      3\u001b[0m     ki_pos_z\u001b[38;5;241m=\u001b[39m\u001b[38;5;241m2\u001b[39m,\n\u001b[1;32m      4\u001b[0m     kp_pos_z\u001b[38;5;241m=\u001b[39m\u001b[38;5;241m6\u001b[39m,\n\u001b[1;32m      5\u001b[0m     kp_vel_z\u001b[38;5;241m=\u001b[39m\u001b[38;5;241m12\u001b[39m,\n\u001b[1;32m      6\u001b[0m     kp_pos_xy\u001b[38;5;241m=\u001b[39m\u001b[38;5;241m8.0\u001b[39m,\n\u001b[1;32m      7\u001b[0m     kp_vel_xy\u001b[38;5;241m=\u001b[39m\u001b[38;5;241m8.0\u001b[39m,\n\u001b[1;32m      8\u001b[0m     kp_yaw\u001b[38;5;241m=\u001b[39m\u001b[38;5;241m8.0\u001b[39m,\n\u001b[1;32m      9\u001b[0m     kp_bank\u001b[38;5;241m=\u001b[39m\u001b[38;5;241m4.0\u001b[39m,\n\u001b[1;32m     10\u001b[0m     n_episodes\u001b[38;5;241m=\u001b[39m\u001b[38;5;241m2500\u001b[39m,\n\u001b[1;32m     11\u001b[0m     target\u001b[38;5;241m=\u001b[39mtarget\n\u001b[1;32m     12\u001b[0m )\n",
      "Cell \u001b[0;32mIn[8], line 47\u001b[0m, in \u001b[0;36mtune_controller\u001b[0;34m(target, kp_pqr, kp_bank, kp_pos_z, kp_vel_z, ki_pos_z, kp_pos_xy, kp_yaw, kp_vel_xy, kappa, n_episodes)\u001b[0m\n\u001b[1;32m     43\u001b[0m omegas \u001b[38;5;241m=\u001b[39m []\n\u001b[1;32m     45\u001b[0m \u001b[38;5;28mprint\u001b[39m(\u001b[38;5;124m\"\u001b[39m\u001b[38;5;124m3 ~~~\u001b[39m\u001b[38;5;124m\"\u001b[39m)\n\u001b[0;32m---> 47\u001b[0m state \u001b[38;5;241m=\u001b[39m \u001b[38;5;28;01mawait\u001b[39;00m sim_step([\u001b[38;5;241m0.0\u001b[39m, \u001b[38;5;241m0.0\u001b[39m, \u001b[38;5;241m0.0\u001b[39m, \u001b[38;5;241m0.0\u001b[39m])\n\u001b[1;32m     49\u001b[0m \u001b[38;5;28mprint\u001b[39m(\u001b[38;5;124m\"\u001b[39m\u001b[38;5;124m4 ~~~\u001b[39m\u001b[38;5;124m\"\u001b[39m)\n\u001b[1;32m     51\u001b[0m t \u001b[38;5;241m=\u001b[39m \u001b[38;5;241m0\u001b[39m\n",
      "Cell \u001b[0;32mIn[6], line 6\u001b[0m, in \u001b[0;36msim_step\u001b[0;34m(motors)\u001b[0m\n\u001b[1;32m      3\u001b[0m motors \u001b[38;5;241m=\u001b[39m np\u001b[38;5;241m.\u001b[39marray(motors) \u001b[38;5;241m*\u001b[39m NEWTON_TO_RPM\n\u001b[1;32m      4\u001b[0m motors \u001b[38;5;241m=\u001b[39m np\u001b[38;5;241m.\u001b[39marray([motors[\u001b[38;5;241m0\u001b[39m], motors[\u001b[38;5;241m2\u001b[39m], motors[\u001b[38;5;241m3\u001b[39m], motors[\u001b[38;5;241m1\u001b[39m]])\n\u001b[0;32m----> 6\u001b[0m (sim_time, _, state) \u001b[38;5;241m=\u001b[39m \u001b[38;5;28;01mawait\u001b[39;00m asyncio\u001b[38;5;241m.\u001b[39mgather(\n\u001b[1;32m      7\u001b[0m     sim\u001b[38;5;241m.\u001b[39mstep(),\n\u001b[1;32m      8\u001b[0m     sim\u001b[38;5;241m.\u001b[39mrpc(\u001b[38;5;124mf\u001b[39m\u001b[38;5;124m\"\u001b[39m\u001b[38;5;124mobject_\u001b[39m\u001b[38;5;132;01m{\u001b[39;00mentity\u001b[38;5;132;01m}\u001b[39;00m\u001b[38;5;124m.thrust_control\u001b[39m\u001b[38;5;124m\"\u001b[39m, \u001b[38;5;28mlist\u001b[39m(motors)),\n\u001b[1;32m      9\u001b[0m     \u001b[38;5;66;03m# sim.rpc(\"script.eval\", {\u001b[39;00m\n\u001b[1;32m     10\u001b[0m     \u001b[38;5;66;03m#         \"code\": \"\"\"{\u001b[39;00m\n\u001b[1;32m     11\u001b[0m     \u001b[38;5;66;03m#             uav_state = sim.object.urdf_uav_state(ARGS),\u001b[39;00m\n\u001b[1;32m     12\u001b[0m     \u001b[38;5;66;03m#         }\"\"\",\u001b[39;00m\n\u001b[1;32m     13\u001b[0m     \u001b[38;5;66;03m#         \"args\": entity,\u001b[39;00m\n\u001b[1;32m     14\u001b[0m     \u001b[38;5;66;03m#         }),\u001b[39;00m\n\u001b[1;32m     15\u001b[0m )\n\u001b[1;32m     17\u001b[0m \u001b[38;5;28;01mreturn\u001b[39;00m \u001b[38;5;28;01mNone\u001b[39;00m\n",
      "File \u001b[0;32m~/anaconda3/envs/jax/lib/python3.11/asyncio/tasks.py:349\u001b[0m, in \u001b[0;36mTask.__wakeup\u001b[0;34m(self, future)\u001b[0m\n\u001b[1;32m    347\u001b[0m \u001b[38;5;28;01mdef\u001b[39;00m\u001b[38;5;250m \u001b[39m\u001b[38;5;21m__wakeup\u001b[39m(\u001b[38;5;28mself\u001b[39m, future):\n\u001b[1;32m    348\u001b[0m     \u001b[38;5;28;01mtry\u001b[39;00m:\n\u001b[0;32m--> 349\u001b[0m         future\u001b[38;5;241m.\u001b[39mresult()\n\u001b[1;32m    350\u001b[0m     \u001b[38;5;28;01mexcept\u001b[39;00m \u001b[38;5;167;01mBaseException\u001b[39;00m \u001b[38;5;28;01mas\u001b[39;00m exc:\n\u001b[1;32m    351\u001b[0m         \u001b[38;5;66;03m# This may also be a cancellation.\u001b[39;00m\n\u001b[1;32m    352\u001b[0m         \u001b[38;5;28mself\u001b[39m\u001b[38;5;241m.\u001b[39m__step(exc)\n",
      "File \u001b[0;32m~/anaconda3/envs/jax/lib/python3.11/asyncio/tasks.py:279\u001b[0m, in \u001b[0;36mTask.__step\u001b[0;34m(***failed resolving arguments***)\u001b[0m\n\u001b[1;32m    277\u001b[0m         result \u001b[38;5;241m=\u001b[39m coro\u001b[38;5;241m.\u001b[39msend(\u001b[38;5;28;01mNone\u001b[39;00m)\n\u001b[1;32m    278\u001b[0m     \u001b[38;5;28;01melse\u001b[39;00m:\n\u001b[0;32m--> 279\u001b[0m         result \u001b[38;5;241m=\u001b[39m coro\u001b[38;5;241m.\u001b[39mthrow(exc)\n\u001b[1;32m    280\u001b[0m \u001b[38;5;28;01mexcept\u001b[39;00m \u001b[38;5;167;01mStopIteration\u001b[39;00m \u001b[38;5;28;01mas\u001b[39;00m exc:\n\u001b[1;32m    281\u001b[0m     \u001b[38;5;28;01mif\u001b[39;00m \u001b[38;5;28mself\u001b[39m\u001b[38;5;241m.\u001b[39m_must_cancel:\n\u001b[1;32m    282\u001b[0m         \u001b[38;5;66;03m# Task is cancelled right before coro stops.\u001b[39;00m\n",
      "File \u001b[0;32m~/code/robotics/intrepid-sim-recipes/intrepid_environment/simulator.py:27\u001b[0m, in \u001b[0;36mSimulator.rpc\u001b[0;34m(self, method, args)\u001b[0m\n\u001b[1;32m     26\u001b[0m \u001b[38;5;28;01masync\u001b[39;00m \u001b[38;5;28;01mdef\u001b[39;00m\u001b[38;5;250m \u001b[39m\u001b[38;5;21mrpc\u001b[39m(\u001b[38;5;28mself\u001b[39m, method, args\u001b[38;5;241m=\u001b[39m\u001b[38;5;28;01mNone\u001b[39;00m):\n\u001b[0;32m---> 27\u001b[0m     result \u001b[38;5;241m=\u001b[39m \u001b[38;5;28;01mawait\u001b[39;00m \u001b[38;5;28mself\u001b[39m\u001b[38;5;241m.\u001b[39mclient\u001b[38;5;241m.\u001b[39mrpc(method, args)\n\u001b[1;32m     28\u001b[0m     \u001b[38;5;28;01mreturn\u001b[39;00m result\u001b[38;5;241m.\u001b[39mdata\n",
      "File \u001b[0;32m~/anaconda3/envs/jax/lib/python3.11/site-packages/centrifuge/client.py:1075\u001b[0m, in \u001b[0;36mClient.rpc\u001b[0;34m(self, method, data, timeout)\u001b[0m\n\u001b[1;32m   1073\u001b[0m future \u001b[38;5;241m=\u001b[39m \u001b[38;5;28mself\u001b[39m\u001b[38;5;241m.\u001b[39m_register_future(cmd_id, timeout \u001b[38;5;129;01mor\u001b[39;00m \u001b[38;5;28mself\u001b[39m\u001b[38;5;241m.\u001b[39m_timeout)\n\u001b[1;32m   1074\u001b[0m \u001b[38;5;28;01mawait\u001b[39;00m \u001b[38;5;28mself\u001b[39m\u001b[38;5;241m.\u001b[39m_send_commands([command])\n\u001b[0;32m-> 1075\u001b[0m reply \u001b[38;5;241m=\u001b[39m \u001b[38;5;28;01mawait\u001b[39;00m future\n\u001b[1;32m   1076\u001b[0m \u001b[38;5;28mself\u001b[39m\u001b[38;5;241m.\u001b[39m_check_reply_error(reply)\n\u001b[1;32m   1077\u001b[0m \u001b[38;5;28;01mreturn\u001b[39;00m RpcResult(\n\u001b[1;32m   1078\u001b[0m     data\u001b[38;5;241m=\u001b[39m\u001b[38;5;28mself\u001b[39m\u001b[38;5;241m.\u001b[39m_decode_data(reply[\u001b[38;5;124m\"\u001b[39m\u001b[38;5;124mrpc\u001b[39m\u001b[38;5;124m\"\u001b[39m]\u001b[38;5;241m.\u001b[39mget(\u001b[38;5;124m\"\u001b[39m\u001b[38;5;124mdata\u001b[39m\u001b[38;5;124m\"\u001b[39m)),\n\u001b[1;32m   1079\u001b[0m )\n",
      "File \u001b[0;32m~/anaconda3/envs/jax/lib/python3.11/asyncio/futures.py:287\u001b[0m, in \u001b[0;36mFuture.__await__\u001b[0;34m(self)\u001b[0m\n\u001b[1;32m    285\u001b[0m \u001b[38;5;28;01mif\u001b[39;00m \u001b[38;5;129;01mnot\u001b[39;00m \u001b[38;5;28mself\u001b[39m\u001b[38;5;241m.\u001b[39mdone():\n\u001b[1;32m    286\u001b[0m     \u001b[38;5;28mself\u001b[39m\u001b[38;5;241m.\u001b[39m_asyncio_future_blocking \u001b[38;5;241m=\u001b[39m \u001b[38;5;28;01mTrue\u001b[39;00m\n\u001b[0;32m--> 287\u001b[0m     \u001b[38;5;28;01myield\u001b[39;00m \u001b[38;5;28mself\u001b[39m  \u001b[38;5;66;03m# This tells Task to wait for completion.\u001b[39;00m\n\u001b[1;32m    288\u001b[0m \u001b[38;5;28;01mif\u001b[39;00m \u001b[38;5;129;01mnot\u001b[39;00m \u001b[38;5;28mself\u001b[39m\u001b[38;5;241m.\u001b[39mdone():\n\u001b[1;32m    289\u001b[0m     \u001b[38;5;28;01mraise\u001b[39;00m \u001b[38;5;167;01mRuntimeError\u001b[39;00m(\u001b[38;5;124m\"\u001b[39m\u001b[38;5;124mawait wasn\u001b[39m\u001b[38;5;124m'\u001b[39m\u001b[38;5;124mt used with future\u001b[39m\u001b[38;5;124m\"\u001b[39m)\n",
      "File \u001b[0;32m~/anaconda3/envs/jax/lib/python3.11/asyncio/tasks.py:349\u001b[0m, in \u001b[0;36mTask.__wakeup\u001b[0;34m(self, future)\u001b[0m\n\u001b[1;32m    347\u001b[0m \u001b[38;5;28;01mdef\u001b[39;00m\u001b[38;5;250m \u001b[39m\u001b[38;5;21m__wakeup\u001b[39m(\u001b[38;5;28mself\u001b[39m, future):\n\u001b[1;32m    348\u001b[0m     \u001b[38;5;28;01mtry\u001b[39;00m:\n\u001b[0;32m--> 349\u001b[0m         future\u001b[38;5;241m.\u001b[39mresult()\n\u001b[1;32m    350\u001b[0m     \u001b[38;5;28;01mexcept\u001b[39;00m \u001b[38;5;167;01mBaseException\u001b[39;00m \u001b[38;5;28;01mas\u001b[39;00m exc:\n\u001b[1;32m    351\u001b[0m         \u001b[38;5;66;03m# This may also be a cancellation.\u001b[39;00m\n\u001b[1;32m    352\u001b[0m         \u001b[38;5;28mself\u001b[39m\u001b[38;5;241m.\u001b[39m__step(exc)\n",
      "File \u001b[0;32m~/anaconda3/envs/jax/lib/python3.11/asyncio/futures.py:203\u001b[0m, in \u001b[0;36mFuture.result\u001b[0;34m(self)\u001b[0m\n\u001b[1;32m    201\u001b[0m \u001b[38;5;28mself\u001b[39m\u001b[38;5;241m.\u001b[39m__log_traceback \u001b[38;5;241m=\u001b[39m \u001b[38;5;28;01mFalse\u001b[39;00m\n\u001b[1;32m    202\u001b[0m \u001b[38;5;28;01mif\u001b[39;00m \u001b[38;5;28mself\u001b[39m\u001b[38;5;241m.\u001b[39m_exception \u001b[38;5;129;01mis\u001b[39;00m \u001b[38;5;129;01mnot\u001b[39;00m \u001b[38;5;28;01mNone\u001b[39;00m:\n\u001b[0;32m--> 203\u001b[0m     \u001b[38;5;28;01mraise\u001b[39;00m \u001b[38;5;28mself\u001b[39m\u001b[38;5;241m.\u001b[39m_exception\u001b[38;5;241m.\u001b[39mwith_traceback(\u001b[38;5;28mself\u001b[39m\u001b[38;5;241m.\u001b[39m_exception_tb)\n\u001b[1;32m    204\u001b[0m \u001b[38;5;28;01mreturn\u001b[39;00m \u001b[38;5;28mself\u001b[39m\u001b[38;5;241m.\u001b[39m_result\n",
      "\u001b[0;31mOperationTimeoutError\u001b[0m: "
     ]
    },
    {
     "ename": "",
     "evalue": "",
     "output_type": "error",
     "traceback": [
      "\u001b[1;31mThe Kernel crashed while executing code in the current cell or a previous cell. \n",
      "\u001b[1;31mPlease review the code in the cell(s) to identify a possible cause of the failure. \n",
      "\u001b[1;31mClick <a href='https://aka.ms/vscodeJupyterKernelCrash'>here</a> for more info. \n",
      "\u001b[1;31mView Jupyter <a href='command:jupyter.viewOutput'>log</a> for further details."
     ]
    }
   ],
   "source": [
    "(times, positions, attitudes) = await tune_controller(\n",
    "    kp_pqr=np.array([45, 45, 10]),\n",
    "    ki_pos_z=2,\n",
    "    kp_pos_z=6,\n",
    "    kp_vel_z=12,\n",
    "    kp_pos_xy=8.0,\n",
    "    kp_vel_xy=8.0,\n",
    "    kp_yaw=8.0,\n",
    "    kp_bank=4.0,\n",
    "    n_episodes=2500,\n",
    "    target=target\n",
    ")"
   ]
  },
  {
   "cell_type": "code",
   "execution_count": null,
   "id": "4522dbcb",
   "metadata": {},
   "outputs": [],
   "source": [
    "plt.title(\"z\")\n",
    "plt.plot(positions[:, 2])\n",
    "plt.show()\n",
    "\n",
    "plt.title(\"x\")\n",
    "plt.plot(positions[:, 0])\n",
    "plt.show()\n",
    "\n",
    "plt.title(\"y\")\n",
    "plt.plot(positions[:, 1])\n",
    "plt.show()"
   ]
  },
  {
   "cell_type": "code",
   "execution_count": null,
   "id": "5c276b42",
   "metadata": {},
   "outputs": [],
   "source": []
  }
 ],
 "metadata": {
  "kernelspec": {
   "display_name": "jax",
   "language": "python",
   "name": "python3"
  },
  "language_info": {
   "codemirror_mode": {
    "name": "ipython",
    "version": 3
   },
   "file_extension": ".py",
   "mimetype": "text/x-python",
   "name": "python",
   "nbconvert_exporter": "python",
   "pygments_lexer": "ipython3",
   "version": "3.11.7"
  }
 },
 "nbformat": 4,
 "nbformat_minor": 5
}

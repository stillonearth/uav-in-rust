{
 "cells": [
  {
   "cell_type": "code",
   "execution_count": 1,
   "id": "151b1c34",
   "metadata": {},
   "outputs": [],
   "source": [
    "import matplotlib.pyplot as plt\n",
    "import nest_asyncio\n",
    "import numpy as np\n",
    "import time\n",
    "import asyncio\n",
    "\n",
    "from intrepid_environment.simulator import Simulator\n",
    "from quadcopter_control.controller import QuadcopterController\n",
    "from scipy.spatial.transform import Rotation as R\n",
    "from tqdm import tqdm\n",
    "\n",
    "nest_asyncio.apply()"
   ]
  },
  {
   "cell_type": "code",
   "execution_count": 2,
   "id": "a5d25522",
   "metadata": {},
   "outputs": [
    {
     "data": {
      "text/plain": [
       "0"
      ]
     },
     "execution_count": 2,
     "metadata": {},
     "output_type": "execute_result"
    }
   ],
   "source": [
    "sim = Simulator()\n",
    "await sim.connect()"
   ]
  },
  {
   "cell_type": "code",
   "execution_count": null,
   "id": "19ad90c0",
   "metadata": {},
   "outputs": [],
   "source": [
    "async def reset():\n",
    "    await sim.rpc(\"session.restart\")\n",
    "    entity = await sim.rpc(\"map.spawn_urdf\", {\n",
    "        \"robot_id\": 0,\n",
    "        \"urdf_path\": \"urdf/so-101/so101_new_calib.urdf\",\n",
    "        \"mesh_dir\": \"assets/urdf/so-101\",\n",
    "        \"create_colliders_from_visual_shapes\": False,\n",
    "        \"create_colliders_from_collision_shapes\": True,\n",
    "        \"robot_type\": \"manipulator\",\n",
    "        \"position\": {\n",
    "            \"x\": 0,\n",
    "            \"y\": 0,\n",
    "            \"z\": 0,\n",
    "        },\n",
    "        \"make_root_fixed\": True,\n",
    "    })\n",
    "    time.sleep(1.0)\n",
    "    await sim.rpc(f\"object_{entity}.urdf_set_motor_props\", { \"stiffness\": 7.6, \"damping\": 0.6 })\n",
    "    await sim.rpc(\"session.run\")\n",
    "    return entity"
   ]
  },
  {
   "cell_type": "code",
   "execution_count": 4,
   "id": "ad3c0546",
   "metadata": {},
   "outputs": [
    {
     "name": "stderr",
     "output_type": "stream",
     "text": [
      "/tmp/ipykernel_154703/4070859897.py:18: RuntimeWarning: coroutine 'Simulator.rpc' was never awaited\n",
      "  sim.rpc(f\"object_{entity}.urdf_set_motor_props\", { \"stiffness\": 7.6, \"damping\": 0.6 })\n",
      "RuntimeWarning: Enable tracemalloc to get the object allocation traceback\n"
     ]
    }
   ],
   "source": [
    "entity = await reset()"
   ]
  },
  {
   "cell_type": "code",
   "execution_count": null,
   "id": "fa37880e",
   "metadata": {},
   "outputs": [],
   "source": [
    "async def sim_step(positions):\n",
    "    (sim_time, _) = await asyncio.gather(\n",
    "        sim.step(),\n",
    "        sim.rpc(f\"object_{entity}.actuator_control\", list(positions)),\n",
    "    )\n",
    "    return"
   ]
  },
  {
   "cell_type": "code",
   "execution_count": null,
   "id": "f7e5f86d",
   "metadata": {},
   "outputs": [],
   "source": [
    "await sim_step([2.3, 2.3, 4.3, 2.3, 2.3, 20.3, 2.3])"
   ]
  },
  {
   "cell_type": "code",
   "execution_count": null,
   "id": "1bf470bf",
   "metadata": {},
   "outputs": [],
   "source": []
  }
 ],
 "metadata": {
  "kernelspec": {
   "display_name": "jax",
   "language": "python",
   "name": "python3"
  },
  "language_info": {
   "codemirror_mode": {
    "name": "ipython",
    "version": 3
   },
   "file_extension": ".py",
   "mimetype": "text/x-python",
   "name": "python",
   "nbconvert_exporter": "python",
   "pygments_lexer": "ipython3",
   "version": "3.11.7"
  }
 },
 "nbformat": 4,
 "nbformat_minor": 5
}
